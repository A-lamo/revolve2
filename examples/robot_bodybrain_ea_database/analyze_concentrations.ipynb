{
 "cells": [
  {
   "cell_type": "code",
   "execution_count": 3,
   "metadata": {},
   "outputs": [],
   "source": [
    "import numpy as np"
   ]
  },
  {
   "cell_type": "code",
   "execution_count": 4,
   "metadata": {},
   "outputs": [],
   "source": [
    "# Load the data\n",
    "locations = np.loadtxt(\"C:\\\\Users\\\\niels\\\\OneDrive\\\\Documenten\\\\GitHub\\\\revolve2\\\\locations.csv\",\n",
    "                  delimiter = ',')\n",
    "\n",
    "concentrations = {}\n",
    "for tf in range(1, 6):\n",
    "    # concentrations[tf] = np.loadtxt(f\"C:\\\\Users\\\\niels\\\\OneDrive\\\\Documenten\\\\GitHub\\\\revolve2\\\\concentrations_TF{tf}.csv\",\n",
    "    #               delimiter = ',')\n",
    "    concentrations[tf] = np.loadtxt(f\"C:\\\\Users\\\\niels\\\\OneDrive\\\\Documenten\\\\GitHub\\\\revolve2\\\\concentrations_GRN_TF{tf}.csv\",\n",
    "                  delimiter = ',')\n",
    "\n",
    "\n",
    "#[cell.developed_module.substrate_coordinates[0], cell.developed_module.substrate_coordinates[1], \n",
    "#        slot4coordinates, potential_module_coord[0], potential_module_coord[1]]\n",
    "\n",
    "# FRONT = 0\n",
    "# RIGHT = 1\n",
    "# BACK = 2\n",
    "# LEFT = 3"
   ]
  },
  {
   "cell_type": "code",
   "execution_count": 5,
   "metadata": {},
   "outputs": [],
   "source": [
    "coordinates, directions = [], {}\n",
    "# Append core coordinates --> 3 x 3 central grid\n",
    "for coord in [(-1, -1), (-1, 1), (1, -1), (1, 1), (0, 0)]:\n",
    "    coordinates.append([coord[0], coord[1]])\n",
    "\n",
    "xbounds = [0, 0]\n",
    "ybounds = [0, 0]\n",
    "for loc in locations:\n",
    "    coordinates.append([loc[3], loc[4]])\n",
    "    directions[tuple(coordinates[-1])] = {0: (int(np.sign(loc[3] - loc[0])), int(np.sign(loc[4] - loc[1])))}\n",
    "    directions[tuple(coordinates[-1])][2] = (-int(np.sign(loc[3] - loc[0])), -int(np.sign(loc[4] - loc[1])))\n",
    "    \n",
    "    if (directions[tuple(coordinates[-1])][0] == (1, 0)):\n",
    "        directions[tuple(coordinates[-1])][1] = (0, 1)\n",
    "        directions[tuple(coordinates[-1])][3] = (0, -1)\n",
    "    elif (directions[tuple(coordinates[-1])][0] == (0, 1)):\n",
    "        directions[tuple(coordinates[-1])][1] = (-1, 0)\n",
    "        directions[tuple(coordinates[-1])][3] = (1, 0)\n",
    "    elif (directions[tuple(coordinates[-1])][0] == (-1, 0)):\n",
    "        directions[tuple(coordinates[-1])][1] =  (0, -1)\n",
    "        directions[tuple(coordinates[-1])][3] = (0, 1)\n",
    "    elif (directions[tuple(coordinates[-1])][0] == (0, -1)):\n",
    "        directions[tuple(coordinates[-1])][1] = (1, 0)\n",
    "        directions[tuple(coordinates[-1])][3] = (-1, 0)\n",
    "    else:\n",
    "        print(\"Error\")\n",
    "\n",
    "    \n",
    "    # x-coordinate\n",
    "    try:\n",
    "        assert directions[tuple(coordinates[-1])][0][0] + loc[0] == loc[3]\n",
    "    except:\n",
    "        assert directions[tuple(coordinates[-1])][0][0] * 2 + loc[0] == loc[3]\n",
    "    # y-coordinate\n",
    "    try:\n",
    "        assert directions[tuple(coordinates[-1])][0][1] + loc[1] == loc[4]\n",
    "    except:\n",
    "        assert directions[tuple(coordinates[-1])][0][1] * 2 + loc[1] == loc[4]\n",
    "\n",
    "    \n",
    "    # Store bounds\n",
    "    if loc[3] < xbounds[0]:\n",
    "        xbounds[0] = loc[3]\n",
    "    if loc[3] > xbounds[1]:\n",
    "        xbounds[1] = loc[3]\n",
    "    if loc[4] < ybounds[0]:\n",
    "        ybounds[0] = loc[4]\n",
    "    if loc[4] > ybounds[1]:\n",
    "        ybounds[1] = loc[4]\n",
    "\n",
    "# Append slot coordinates\n",
    "xbounds = [min([xbounds[0], - 1]), max([xbounds[1], 1])]\n",
    "ybounds = [min([ybounds[0], - 1]), max([ybounds[1], 1])]"
   ]
  },
  {
   "cell_type": "code",
   "execution_count": 6,
   "metadata": {},
   "outputs": [],
   "source": [
    "grid = np.ones((max([int(xbounds[1] - xbounds[0]) + 1, 3]), max([int(ybounds[1] - ybounds[0] + 1), 3])))\n",
    "\n",
    "# Set to 0 if not in body\n",
    "for i in range(grid.shape[0]):\n",
    "    for j in range(grid.shape[1]):\n",
    "        if [i + xbounds[0], j + ybounds[0]] not in coordinates:\n",
    "            grid[i, j] = 0"
   ]
  },
  {
   "cell_type": "code",
   "execution_count": 7,
   "metadata": {},
   "outputs": [
    {
     "data": {
      "text/plain": [
       "<matplotlib.image.AxesImage at 0x1cce9f142e0>"
      ]
     },
     "execution_count": 7,
     "metadata": {},
     "output_type": "execute_result"
    },
    {
     "data": {
      "image/png": "[encoded data removed]",
      "text/plain": [
       "<Figure size 640x480 with 1 Axes>"
      ]
     },
     "metadata": {},
     "output_type": "display_data"
    }
   ],
   "source": [
    "import matplotlib.pyplot as plt\n",
    "plt.imshow(grid)"
   ]
  },
  {
   "cell_type": "code",
   "execution_count": 8,
   "metadata": {},
   "outputs": [
    {
     "data": {
      "text/plain": [
       "<matplotlib.image.AxesImage at 0x1ccea2ae5f0>"
      ]
     },
     "execution_count": 8,
     "metadata": {},
     "output_type": "execute_result"
    },
    {
     "data": {
      "image/png": "[encoded data removed]",
      "text/plain": [
       "<Figure size 640x480 with 1 Axes>"
      ]
     },
     "metadata": {},
     "output_type": "display_data"
    }
   ],
   "source": [
    "# Expand each grid cell to 3 x 3\n",
    "expanded_grid = np.zeros((grid.shape[0] * 3, grid.shape[1] * 3))\n",
    "for i in range(grid.shape[0]):\n",
    "    for j in range(grid.shape[1]):\n",
    "        expanded_grid[i * 3: (i + 1) * 3, j * 3: (j + 1) * 3] = grid[i, j]\n",
    "\n",
    "plt.imshow(expanded_grid)"
   ]
  },
  {
   "cell_type": "code",
   "execution_count": 54,
   "metadata": {},
   "outputs": [
    {
     "name": "stdout",
     "output_type": "stream",
     "text": [
      "Frame 1033 of 1034\r"
     ]
    }
   ],
   "source": [
    "# Write gif of the concentrations --> normalized per timestep\n",
    "import gif\n",
    "\n",
    "@gif.frame\n",
    "def animate(gen):\n",
    "    # ---- Plot\n",
    "    # Initialize figure\n",
    "    fig = plt.figure(figsize=(20, 20), facecolor = \"white\")\n",
    "    ax = [fig.add_subplot(2, 3, i + 1) for i in range(0, 6)]\n",
    "    fig.tight_layout()\n",
    "    #plt.subplots_adjust(left=None, bottom=None, right=None, top=None, wspace=8, hspace=None)\n",
    "    # Initialize color map and norm\n",
    "    cmap = plt.colormaps.get_cmap(\"jet\")\n",
    "    minval = 0\n",
    "    maxval = np.max([np.max(concentrations[tf][:, gen]) for tf in range(1, 6)])\n",
    "\n",
    "    for tf in range(1, 6):\n",
    "        # Initialize grid\n",
    "        expanded_grid = np.zeros((grid.shape[0] * 3, grid.shape[1] * 3))\n",
    "\n",
    "        # Set the concentrations on an expanded grid for TF1\n",
    "        middle_core = 0\n",
    "        for i in range(grid.shape[0]):\n",
    "            for j in range(grid.shape[1]):\n",
    "                # # Save core index?\n",
    "                # if (i + xbounds[0], j + ybounds[0]) == (0, 0):\n",
    "                #     core_index = [i * 3, j * 3]\n",
    "                \n",
    "                if (grid[i, j] == 1) and ((i + xbounds[0], j + ybounds[0]) not in [(0, 0), (1, 1), (-1, -1), (-1, 1), (1, -1)]):\n",
    "                    # Get index of the coordinates\n",
    "                    idx_coordinates = coordinates.index([i + xbounds[0], j + ybounds[0]])\n",
    "                    idx = idx_coordinates - 8 # Subtract 8 to get the correct index for the concentrations\n",
    "                    # Check if core\n",
    "                    if idx <= 0:\n",
    "                        bool_core = True\n",
    "                        idx += 3\n",
    "                    else:\n",
    "                        bool_core = False\n",
    "\n",
    "                    # Tijdelijk --> core nog toevoegen\n",
    "                    if not bool_core:\n",
    "                        for c in range(4):\n",
    "                            row = i * 3 + 1 + directions[tuple(coordinates[idx_coordinates])][c][0]\n",
    "                            col = j * 3 + 1 + directions[tuple(coordinates[idx_coordinates])][c][1]\n",
    "                            expanded_grid[row, col] = concentrations[1][int(idx * 4 + c), gen]\n",
    "                    else:\n",
    "                        row = i * 3\n",
    "                        col = j * 3\n",
    "                        expanded_grid[row:int(row + 3), col:int(col + 3)] = concentrations[tf][int(idx * 4), gen]\n",
    "                        middle_core += 0.25 * concentrations[tf][int(idx * 4), gen]\n",
    "\n",
    "        #expanded_grid[core_index[0]:core_index[0] + 3, core_index[1]:core_index[1] + 3] = middle_core\n",
    "        # ---- Plot\n",
    "        ax[int(tf - 1)].imshow(expanded_grid, cmap = cmap, vmin = minval, vmax = maxval)\n",
    "        ax[int(tf - 1)].set_title(f\"TF{tf}, t = {gen}\", fontsize = 20, pad = 20, color = \"black\", fontweight = \"bold\")\n",
    "        ax[int(tf - 1)].axis(\"off\")\n",
    "        ax[int(tf - 1)].set_aspect(\"equal\")\n",
    "        ax[int(tf - 1)].set_xticklabels([])\n",
    "        ax[int(tf - 1)].set_yticklabels([])\n",
    "        # Remove tick indicators\n",
    "        ax[int(tf - 1)].set_xticks([])\n",
    "        ax[int(tf - 1)].set_yticks([])\n",
    "    \n",
    "    # ---- Set last figure blank\n",
    "    ax[5].axis(\"off\")\n",
    "    ax[5].set_aspect(\"equal\")\n",
    "    ax[5].set_xticklabels([])\n",
    "    ax[5].set_yticklabels([])\n",
    "    # Remove tick indicators\n",
    "    ax[5].set_xticks([])\n",
    "    ax[5].set_yticks([])\n",
    "\n",
    "frames = []\n",
    "for i in range(1024, 1034): #concentrations[1].shape[1]):\n",
    "    # Print progress\n",
    "    print(f\"Frame {i} of {concentrations[1].shape[1]}\", end = \"\\r\")\n",
    "    # Append\n",
    "    frames.append(animate(i))\n",
    "    \n",
    "# ----- Export gif\n",
    "gif.save(frames, f\"Tfs.gif\", duration = 300)\n"
   ]
  },
  {
   "cell_type": "code",
   "execution_count": 59,
   "metadata": {},
   "outputs": [
    {
     "name": "stdout",
     "output_type": "stream",
     "text": [
      "[1.0416   0.       0.       1.060225 0.8985   0.      ]\n"
     ]
    }
   ],
   "source": [
    "print(concentrations[4][4:10, 1031])"
   ]
  }
 ],
 "metadata": {
  "kernelspec": {
   "display_name": ".venv",
   "language": "python",
   "name": "python3"
  },
  "language_info": {
   "codemirror_mode": {
    "name": "ipython",
    "version": 3
   },
   "file_extension": ".py",
   "mimetype": "text/x-python",
   "name": "python",
   "nbconvert_exporter": "python",
   "pygments_lexer": "ipython3",
   "version": "3.10.11"
  }
 },
 "nbformat": 4,
 "nbformat_minor": 2
}
